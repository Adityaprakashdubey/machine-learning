{
 "cells": [
  {
   "cell_type": "code",
   "execution_count": 1,
   "id": "ae7f88f4",
   "metadata": {},
   "outputs": [],
   "source": [
    "#1. What does one mean by the term machine learning?\n",
    "# ans= A machine is a sub set of artificial intelligence that allow machines or computer to learn from itself from through\n",
    "       # the input data with time and improve its performance"
   ]
  },
  {
   "cell_type": "code",
   "execution_count": 2,
   "id": "8e148287",
   "metadata": {},
   "outputs": [],
   "source": [
    "# 2.Can you think of 4 distinct types of issues where it shines?\n",
    "# ans = oclussion , image deformation,cluttered background, change in viewing angle \n"
   ]
  },
  {
   "cell_type": "code",
   "execution_count": 3,
   "id": "7067ab4b",
   "metadata": {},
   "outputs": [],
   "source": [
    "#3.What is a labeled training set, and how does it work?\n",
    "# A labeled training set is a dataset used in supervised machine learning where each input example is paired with its corresponding output or target\n",
    " # how it works ==input ootput pairing, model training , learning patterns , evaluation"
   ]
  },
  {
   "cell_type": "code",
   "execution_count": 4,
   "id": "daca2322",
   "metadata": {},
   "outputs": [],
   "source": [
    "# 4.What are the two most important tasks that are supervised?\n",
    "# Classification and Regression"
   ]
  },
  {
   "cell_type": "code",
   "execution_count": 5,
   "id": "8036df6f",
   "metadata": {},
   "outputs": [],
   "source": [
    "#5.Can you think of four examples of unsupervised tasks?\n",
    "# Clustering , Dimensionality Reduction , Association Rule Learning, Generative Modeling"
   ]
  },
  {
   "cell_type": "code",
   "execution_count": 6,
   "id": "8e54dea1",
   "metadata": {},
   "outputs": [],
   "source": [
    "#6.State the machine learning model that would be best to make a robot walk through various unfamiliar terrain\n",
    "# Computer Vision"
   ]
  },
  {
   "cell_type": "code",
   "execution_count": 7,
   "id": "8f2f759c",
   "metadata": {},
   "outputs": [],
   "source": [
    "#7.Which algorithm will you use to divide your customers into different groups?\n",
    "# K-means Clustering"
   ]
  },
  {
   "cell_type": "code",
   "execution_count": 8,
   "id": "25213359",
   "metadata": {},
   "outputs": [],
   "source": [
    "#8.Will you consider the problem of spam detection to be a supervised or unsupervised learning problem\n",
    "# supervised learning"
   ]
  },
  {
   "cell_type": "code",
   "execution_count": null,
   "id": "ca2f33a2",
   "metadata": {},
   "outputs": [],
   "source": []
  }
 ],
 "metadata": {
  "kernelspec": {
   "display_name": "Python 3 (ipykernel)",
   "language": "python",
   "name": "python3"
  },
  "language_info": {
   "codemirror_mode": {
    "name": "ipython",
    "version": 3
   },
   "file_extension": ".py",
   "mimetype": "text/x-python",
   "name": "python",
   "nbconvert_exporter": "python",
   "pygments_lexer": "ipython3",
   "version": "3.9.7"
  }
 },
 "nbformat": 4,
 "nbformat_minor": 5
}
